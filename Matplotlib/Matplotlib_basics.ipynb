{
  "nbformat": 4,
  "nbformat_minor": 0,
  "metadata": {
    "colab": {
      "provenance": [],
      "authorship_tag": "ABX9TyNG4FOzVKmBGWJiHasOtr7i",
      "include_colab_link": true
    },
    "kernelspec": {
      "name": "python3",
      "display_name": "Python 3"
    },
    "language_info": {
      "name": "python"
    }
  },
  "cells": [
    {
      "cell_type": "markdown",
      "metadata": {
        "id": "view-in-github",
        "colab_type": "text"
      },
      "source": [
        "<a href=\"https://colab.research.google.com/github/gon-olmedo/data-science-cookbook/blob/main/Matplotlib/Matplotlib_basics.ipynb\" target=\"_parent\"><img src=\"https://colab.research.google.com/assets/colab-badge.svg\" alt=\"Open In Colab\"/></a>"
      ]
    },
    {
      "cell_type": "code",
      "execution_count": 15,
      "metadata": {
        "id": "-HxwoGlvf9WC"
      },
      "outputs": [],
      "source": [
        "import numpy as np\n",
        "import pandas as pd\n",
        "import matplotlib.pyplot as plt"
      ]
    },
    {
      "cell_type": "markdown",
      "source": [
        "# Basics of Charting"
      ],
      "metadata": {
        "id": "hoVOrMDr1dL4"
      }
    },
    {
      "cell_type": "code",
      "source": [
        "# Set axis range, X from 0 to 4 and Y from 0 to 12\n",
        "plt.axis([0,4,0,12])\n",
        "\n",
        "# Add a title\n",
        "plt.title('Quadratic')"
      ],
      "metadata": {
        "colab": {
          "base_uri": "https://localhost:8080/",
          "height": 298
        },
        "id": "6WpDr6vfgKPe",
        "outputId": "3b648d42-d3af-4f2b-bd86-250fe578eb5f"
      },
      "execution_count": 16,
      "outputs": [
        {
          "output_type": "execute_result",
          "data": {
            "text/plain": [
              "Text(0.5, 1.0, 'Quadratic')"
            ]
          },
          "metadata": {},
          "execution_count": 16
        },
        {
          "output_type": "display_data",
          "data": {
            "text/plain": [
              "<Figure size 432x288 with 1 Axes>"
            ],
            "image/png": "[encoded data removed]"
          },
          "metadata": {
            "needs_background": "light"
          }
        }
      ]
    },
    {
      "cell_type": "code",
      "source": [
        "# what we had before\n",
        "plt.axis([0,4,0,12])\n",
        "plt.title('Quadratic')\n",
        "\n",
        "# Add 4 red dots based on the following coordenates (X,Y):\n",
        "# 1) at (0,0)\n",
        "# 2) at (1,1)\n",
        "# 3) at (2,4)\n",
        "# 4) at (3,9)\n",
        "plt.plot([0,1,2,3], [0,1,4,9], 'ro')"
      ],
      "metadata": {
        "colab": {
          "base_uri": "https://localhost:8080/",
          "height": 298
        },
        "id": "F1E1Kr9GgetJ",
        "outputId": "f4285645-bf86-4f1e-a426-7734e510c517"
      },
      "execution_count": 17,
      "outputs": [
        {
          "output_type": "execute_result",
          "data": {
            "text/plain": [
              "[<matplotlib.lines.Line2D at 0x7fb9d715a490>]"
            ]
          },
          "metadata": {},
          "execution_count": 17
        },
        {
          "output_type": "display_data",
          "data": {
            "text/plain": [
              "<Figure size 432x288 with 1 Axes>"
            ],
            "image/png": "[encoded data removed]"
          },
          "metadata": {
            "needs_background": "light"
          }
        }
      ]
    },
    {
      "cell_type": "code",
      "source": [
        "# what we had before\n",
        "plt.axis([0,4,0,12])\n",
        "plt.title('Quadratic')\n",
        "plt.plot([0,1,2,3], [0,1,4,9], 'ro')\n",
        "\n",
        "# Add a horizontal solid blue line at Y = 9, for X range 0 to 3\n",
        "plt.hlines(9,0,3, colors='blue', linestyles='solid')"
      ],
      "metadata": {
        "colab": {
          "base_uri": "https://localhost:8080/",
          "height": 298
        },
        "id": "-rKQxx8ohehU",
        "outputId": "7bad4ef4-e136-4545-f7e4-f067b77511eb"
      },
      "execution_count": 18,
      "outputs": [
        {
          "output_type": "execute_result",
          "data": {
            "text/plain": [
              "<matplotlib.collections.LineCollection at 0x7fb9d70d4390>"
            ]
          },
          "metadata": {},
          "execution_count": 18
        },
        {
          "output_type": "display_data",
          "data": {
            "text/plain": [
              "<Figure size 432x288 with 1 Axes>"
            ],
            "image/png": "[encoded data removed]"
          },
          "metadata": {
            "needs_background": "light"
          }
        }
      ]
    },
    {
      "cell_type": "code",
      "source": [
        "# what we had before\n",
        "plt.axis([0,4,0,12])\n",
        "plt.title('Quadratic')\n",
        "plt.plot([0,1,2,3], [0,1,4,9], 'ro')\n",
        "plt.hlines(9,0,3, colors='blue', linestyles='solid')\n",
        "\n",
        "# Add a vertical dotted green line at X = 3, for range Y 0 to 9\n",
        "plt.vlines(3,0,9, colors='green', linestyles='dotted')"
      ],
      "metadata": {
        "colab": {
          "base_uri": "https://localhost:8080/",
          "height": 298
        },
        "id": "y0Wu71fGiegS",
        "outputId": "927b2b1a-cde9-4cbb-e1a9-df54ba63be32"
      },
      "execution_count": 19,
      "outputs": [
        {
          "output_type": "execute_result",
          "data": {
            "text/plain": [
              "<matplotlib.collections.LineCollection at 0x7fb9d703cf10>"
            ]
          },
          "metadata": {},
          "execution_count": 19
        },
        {
          "output_type": "display_data",
          "data": {
            "text/plain": [
              "<Figure size 432x288 with 1 Axes>"
            ],
            "image/png": "[encoded data removed]"
          },
          "metadata": {
            "needs_background": "light"
          }
        }
      ]
    },
    {
      "cell_type": "code",
      "source": [
        "# what we had before\n",
        "plt.axis([0,4,0,12])\n",
        "plt.title('Quadratic')\n",
        "plt.plot([0,1,2,3], [0,1,4,9], 'ro')\n",
        "plt.hlines(9,0,3, colors='blue', linestyles='solid')\n",
        "plt.vlines(3,0,9, colors='green', linestyles='dotted')\n",
        "\n",
        "# label de axes and show and name legend of the data\n",
        "plt.xlabel('X Values')\n",
        "plt.ylabel('Y Values')\n",
        "plt.legend(['First Series'])"
      ],
      "metadata": {
        "colab": {
          "base_uri": "https://localhost:8080/",
          "height": 312
        },
        "id": "cPX3bMkGjOX2",
        "outputId": "48283480-ef83-473c-d834-d05d85c56285"
      },
      "execution_count": 20,
      "outputs": [
        {
          "output_type": "execute_result",
          "data": {
            "text/plain": [
              "<matplotlib.legend.Legend at 0x7fb9d6ffc890>"
            ]
          },
          "metadata": {},
          "execution_count": 20
        },
        {
          "output_type": "display_data",
          "data": {
            "text/plain": [
              "<Figure size 432x288 with 1 Axes>"
            ],
            "image/png": "[encoded data removed]"
          },
          "metadata": {
            "needs_background": "light"
          }
        }
      ]
    },
    {
      "cell_type": "code",
      "source": [
        "# what we had before\n",
        "plt.axis([0,4,0,12])\n",
        "plt.title('Quadratic')\n",
        "plt.plot([0,1,2,3], [0,1,4,9], 'ro')\n",
        "plt.hlines(9,0,3, colors='blue', linestyles='solid')\n",
        "plt.vlines(3,0,9, colors='green', linestyles='dotted')\n",
        "plt.xlabel('X Values')\n",
        "plt.ylabel('Y Values')\n",
        "plt.legend(['First Series'])\n",
        "\n",
        "# Add text to the chart:\n",
        "#  at coordenate (2,4) write '(2.4)'\n",
        "plt.text(2,4,'(2,4)')\n",
        "\n",
        "# at coordenate (0.5,6) add a yellow textbox containing the formula y = x^2\n",
        "plt.text(0.5,6, r'$y = x^2$', fontsize=25, bbox={'facecolor':'yellow',\n",
        "                                                 'alpha':0.2})"
      ],
      "metadata": {
        "colab": {
          "base_uri": "https://localhost:8080/",
          "height": 312
        },
        "id": "M4XB2Wd6xsBN",
        "outputId": "2b97459c-1b7e-45a3-aed8-05cb5ad603c7"
      },
      "execution_count": 21,
      "outputs": [
        {
          "output_type": "execute_result",
          "data": {
            "text/plain": [
              "Text(0.5, 6, '$y = x^2$')"
            ]
          },
          "metadata": {},
          "execution_count": 21
        },
        {
          "output_type": "display_data",
          "data": {
            "text/plain": [
              "<Figure size 432x288 with 1 Axes>"
            ],
            "image/png": "[encoded data removed]"
          },
          "metadata": {
            "needs_background": "light"
          }
        }
      ]
    },
    {
      "cell_type": "markdown",
      "source": [
        "# Boxplot & Histogram"
      ],
      "metadata": {
        "id": "zHPDS7L41PjG"
      }
    },
    {
      "cell_type": "markdown",
      "source": [
        "## Boxplot"
      ],
      "metadata": {
        "id": "qcdQfLfh_H_g"
      }
    },
    {
      "cell_type": "code",
      "source": [
        "# let's create a dummy dataset of 200 random intergers ranging from 0 to 100\n",
        "data = np.random.randint(low=0,\n",
        "                        high=100,\n",
        "                        size=200)\n",
        "\n",
        "data"
      ],
      "metadata": {
        "colab": {
          "base_uri": "https://localhost:8080/"
        },
        "id": "g3AuHAuCyVdP",
        "outputId": "2a4760ce-b7b6-46cd-8683-057c8f35b637"
      },
      "execution_count": 24,
      "outputs": [
        {
          "output_type": "execute_result",
          "data": {
            "text/plain": [
              "array([ 1, 49, 70, 75, 20, 17, 34, 97,  8, 45, 81, 59, 53, 50, 34, 11, 47,\n",
              "       61, 59, 17, 78, 50, 21, 99, 41, 40, 15, 71,  5, 40, 83, 67, 50, 75,\n",
              "        3, 20, 90, 98, 83, 68,  5, 10, 16, 59, 33, 59,  7, 56, 58, 45, 32,\n",
              "       41, 74, 10, 27, 88, 31, 79, 54, 12, 86, 46, 95, 45, 58, 77, 54, 37,\n",
              "       35, 80, 52,  1, 42, 99, 64,  7, 62, 46, 60, 29, 30, 42, 81, 72, 68,\n",
              "       42, 31, 59, 30, 36, 40, 79, 73, 18, 39, 81,  5, 12, 82, 88, 31, 16,\n",
              "       25, 98, 84, 33, 76,  1, 13, 75, 71,  3, 73, 63, 58, 55, 80, 62, 63,\n",
              "        0, 59, 97, 69, 18, 34, 80, 23, 11, 79, 97, 74, 13, 90, 98, 31, 82,\n",
              "       30,  8, 99, 28, 20, 43,  2, 51, 35, 77, 19, 27,  9, 42, 57, 91,  4,\n",
              "       82, 44, 67,  5, 32, 65, 76,  6, 29, 57, 32, 98, 64,  6, 94, 48,  4,\n",
              "       50, 50, 29, 25,  6, 67, 35, 37, 68, 68,  5, 40, 85,  5, 18, 53, 78,\n",
              "       22, 65, 55, 48, 85, 44, 41, 36, 30, 10, 33, 82, 68])"
            ]
          },
          "metadata": {},
          "execution_count": 24
        }
      ]
    },
    {
      "cell_type": "code",
      "source": [
        "# chart basic boxplot\n",
        "plt.boxplot(data)"
      ],
      "metadata": {
        "colab": {
          "base_uri": "https://localhost:8080/",
          "height": 404
        },
        "id": "lUsunixc31z0",
        "outputId": "9537a2e4-5199-4ee1-cec2-f8799e311de9"
      },
      "execution_count": 25,
      "outputs": [
        {
          "output_type": "execute_result",
          "data": {
            "text/plain": [
              "{'whiskers': [<matplotlib.lines.Line2D at 0x7fb9d6e6f4d0>,\n",
              "  <matplotlib.lines.Line2D at 0x7fb9d6e6f290>],\n",
              " 'caps': [<matplotlib.lines.Line2D at 0x7fb9d6e6fb90>,\n",
              "  <matplotlib.lines.Line2D at 0x7fb9d7055210>],\n",
              " 'boxes': [<matplotlib.lines.Line2D at 0x7fb9d6e67ad0>],\n",
              " 'medians': [<matplotlib.lines.Line2D at 0x7fb9d6ef6350>],\n",
              " 'fliers': [<matplotlib.lines.Line2D at 0x7fb9d6ef6750>],\n",
              " 'means': []}"
            ]
          },
          "metadata": {},
          "execution_count": 25
        },
        {
          "output_type": "display_data",
          "data": {
            "text/plain": [
              "<Figure size 432x288 with 1 Axes>"
            ],
            "image/png": "[encoded data removed]"
          },
          "metadata": {
            "needs_background": "light"
          }
        }
      ]
    },
    {
      "cell_type": "markdown",
      "source": [
        "## Histogram"
      ],
      "metadata": {
        "id": "wLz25BJ8_NDB"
      }
    },
    {
      "cell_type": "code",
      "source": [
        "plt.hist(data, bins=20)"
      ],
      "metadata": {
        "colab": {
          "base_uri": "https://localhost:8080/",
          "height": 369
        },
        "id": "bDoMp9A94G5j",
        "outputId": "47a237f8-cdb7-4a80-fdeb-6cf2f16eaa6f"
      },
      "execution_count": 26,
      "outputs": [
        {
          "output_type": "execute_result",
          "data": {
            "text/plain": [
              "(array([ 9., 14.,  9.,  9.,  6.,  8., 17.,  8., 14.,  9., 11., 14.,  8.,\n",
              "        11.,  8., 12., 13.,  5.,  4., 11.]),\n",
              " array([ 0.  ,  4.95,  9.9 , 14.85, 19.8 , 24.75, 29.7 , 34.65, 39.6 ,\n",
              "        44.55, 49.5 , 54.45, 59.4 , 64.35, 69.3 , 74.25, 79.2 , 84.15,\n",
              "        89.1 , 94.05, 99.  ]),\n",
              " <a list of 20 Patch objects>)"
            ]
          },
          "metadata": {},
          "execution_count": 26
        },
        {
          "output_type": "display_data",
          "data": {
            "text/plain": [
              "<Figure size 432x288 with 1 Axes>"
            ],
            "image/png": "[encoded data removed]"
          },
          "metadata": {
            "needs_background": "light"
          }
        }
      ]
    },
    {
      "cell_type": "code",
      "source": [
        "# show both charts together using subplot\n",
        "\n",
        "#the figure has 2 rows, 1 column, and this plot is the first plot\n",
        "plt.subplot(2,1,1)\n",
        "plt.boxplot(data)\n",
        "\n",
        "#the figure has 2 rows, 1 column, and this plot is the second plot\n",
        "plt.subplot(2,1,2)\n",
        "plt.hist(data, bins=20)"
      ],
      "metadata": {
        "colab": {
          "base_uri": "https://localhost:8080/",
          "height": 370
        },
        "id": "wfhpmGDi4_yf",
        "outputId": "342fe6c8-0f4b-469c-98d5-bf906d80a72b"
      },
      "execution_count": 32,
      "outputs": [
        {
          "output_type": "execute_result",
          "data": {
            "text/plain": [
              "(array([ 9., 14.,  9.,  9.,  6.,  8., 17.,  8., 14.,  9., 11., 14.,  8.,\n",
              "        11.,  8., 12., 13.,  5.,  4., 11.]),\n",
              " array([ 0.  ,  4.95,  9.9 , 14.85, 19.8 , 24.75, 29.7 , 34.65, 39.6 ,\n",
              "        44.55, 49.5 , 54.45, 59.4 , 64.35, 69.3 , 74.25, 79.2 , 84.15,\n",
              "        89.1 , 94.05, 99.  ]),\n",
              " <a list of 20 Patch objects>)"
            ]
          },
          "metadata": {},
          "execution_count": 32
        },
        {
          "output_type": "display_data",
          "data": {
            "text/plain": [
              "<Figure size 432x288 with 2 Axes>"
            ],
            "image/png": "[encoded data removed]"
          },
          "metadata": {
            "needs_background": "light"
          }
        }
      ]
    },
    {
      "cell_type": "code",
      "source": [
        "# Rearange horizontally\n",
        "\n",
        "#the figure has 1 row, 2 columns, and this plot is the first plot\n",
        "plt.subplot(1,2,1)\n",
        "plt.boxplot(data)\n",
        "\n",
        "#the figure has 1 row, 2 columns, and this plot is the second plot\n",
        "plt.subplot(1,2,2)\n",
        "plt.hist(data, bins=20)"
      ],
      "metadata": {
        "colab": {
          "base_uri": "https://localhost:8080/",
          "height": 369
        },
        "id": "lyIICEvS6UJP",
        "outputId": "6542aa60-9d3f-4d9a-bcad-e25e4a0ebad1"
      },
      "execution_count": 33,
      "outputs": [
        {
          "output_type": "execute_result",
          "data": {
            "text/plain": [
              "(array([ 9., 14.,  9.,  9.,  6.,  8., 17.,  8., 14.,  9., 11., 14.,  8.,\n",
              "        11.,  8., 12., 13.,  5.,  4., 11.]),\n",
              " array([ 0.  ,  4.95,  9.9 , 14.85, 19.8 , 24.75, 29.7 , 34.65, 39.6 ,\n",
              "        44.55, 49.5 , 54.45, 59.4 , 64.35, 69.3 , 74.25, 79.2 , 84.15,\n",
              "        89.1 , 94.05, 99.  ]),\n",
              " <a list of 20 Patch objects>)"
            ]
          },
          "metadata": {},
          "execution_count": 33
        },
        {
          "output_type": "display_data",
          "data": {
            "text/plain": [
              "<Figure size 432x288 with 2 Axes>"
            ],
            "image/png": "[encoded data removed]"
          },
          "metadata": {
            "needs_background": "light"
          }
        }
      ]
    },
    {
      "cell_type": "markdown",
      "source": [
        "# Scatterplot"
      ],
      "metadata": {
        "id": "myxU6xoN7pc6"
      }
    },
    {
      "cell_type": "code",
      "source": [
        "# let's get some data\n",
        "file = 'https://github.com/VitorKamada/ECO6100/raw/master/Data/CongressRD.csv'\n",
        "df = pd.read_csv(file)\n",
        "\n",
        "df.head()"
      ],
      "metadata": {
        "colab": {
          "base_uri": "https://localhost:8080/",
          "height": 206
        },
        "id": "TaRw2onl63NE",
        "outputId": "2d54484f-80f7-4e4f-f085-13ede1faf3a3"
      },
      "execution_count": 35,
      "outputs": [
        {
          "output_type": "execute_result",
          "data": {
            "text/plain": [
              "   ChildPoverty  MedianIncome  Obama2008  GOP2party2010  GOPwin2010  WhitePct  \\\n",
              "0          0.27       39597.0       0.39          1.000         1.0      0.68   \n",
              "1          0.29       37289.0       0.36          0.511         1.0      0.67   \n",
              "2          0.25       38079.0       0.43          0.595         1.0      0.65   \n",
              "3          0.26       35719.0       0.23          1.000         1.0      0.90   \n",
              "4          0.19       43832.0       0.38          0.580         1.0      0.78   \n",
              "\n",
              "   Ideology  \n",
              "0     0.460  \n",
              "1     0.443  \n",
              "2     0.426  \n",
              "3     0.467  \n",
              "4     0.797  "
            ],
            "text/html": [
              "\n",
              "  <div id=\"df-22ac67e5-eba0-4fa3-b04a-b0b5730a1c83\">\n",
              "    <div class=\"colab-df-container\">\n",
              "      <div>\n",
              "<style scoped>\n",
              "    .dataframe tbody tr th:only-of-type {\n",
              "        vertical-align: middle;\n",
              "    }\n",
              "\n",
              "    .dataframe tbody tr th {\n",
              "        vertical-align: top;\n",
              "    }\n",
              "\n",
              "    .dataframe thead th {\n",
              "        text-align: right;\n",
              "    }\n",
              "</style>\n",
              "<table border=\"1\" class=\"dataframe\">\n",
              "  <thead>\n",
              "    <tr style=\"text-align: right;\">\n",
              "      <th></th>\n",
              "      <th>ChildPoverty</th>\n",
              "      <th>MedianIncome</th>\n",
              "      <th>Obama2008</th>\n",
              "      <th>GOP2party2010</th>\n",
              "      <th>GOPwin2010</th>\n",
              "      <th>WhitePct</th>\n",
              "      <th>Ideology</th>\n",
              "    </tr>\n",
              "  </thead>\n",
              "  <tbody>\n",
              "    <tr>\n",
              "      <th>0</th>\n",
              "      <td>0.27</td>\n",
              "      <td>39597.0</td>\n",
              "      <td>0.39</td>\n",
              "      <td>1.000</td>\n",
              "      <td>1.0</td>\n",
              "      <td>0.68</td>\n",
              "      <td>0.460</td>\n",
              "    </tr>\n",
              "    <tr>\n",
              "      <th>1</th>\n",
              "      <td>0.29</td>\n",
              "      <td>37289.0</td>\n",
              "      <td>0.36</td>\n",
              "      <td>0.511</td>\n",
              "      <td>1.0</td>\n",
              "      <td>0.67</td>\n",
              "      <td>0.443</td>\n",
              "    </tr>\n",
              "    <tr>\n",
              "      <th>2</th>\n",
              "      <td>0.25</td>\n",
              "      <td>38079.0</td>\n",
              "      <td>0.43</td>\n",
              "      <td>0.595</td>\n",
              "      <td>1.0</td>\n",
              "      <td>0.65</td>\n",
              "      <td>0.426</td>\n",
              "    </tr>\n",
              "    <tr>\n",
              "      <th>3</th>\n",
              "      <td>0.26</td>\n",
              "      <td>35719.0</td>\n",
              "      <td>0.23</td>\n",
              "      <td>1.000</td>\n",
              "      <td>1.0</td>\n",
              "      <td>0.90</td>\n",
              "      <td>0.467</td>\n",
              "    </tr>\n",
              "    <tr>\n",
              "      <th>4</th>\n",
              "      <td>0.19</td>\n",
              "      <td>43832.0</td>\n",
              "      <td>0.38</td>\n",
              "      <td>0.580</td>\n",
              "      <td>1.0</td>\n",
              "      <td>0.78</td>\n",
              "      <td>0.797</td>\n",
              "    </tr>\n",
              "  </tbody>\n",
              "</table>\n",
              "</div>\n",
              "      <button class=\"colab-df-convert\" onclick=\"convertToInteractive('df-22ac67e5-eba0-4fa3-b04a-b0b5730a1c83')\"\n",
              "              title=\"Convert this dataframe to an interactive table.\"\n",
              "              style=\"display:none;\">\n",
              "        \n",
              "  <svg xmlns=\"http://www.w3.org/2000/svg\" height=\"24px\"viewBox=\"0 0 24 24\"\n",
              "       width=\"24px\">\n",
              "    <path d=\"M0 0h24v24H0V0z\" fill=\"none\"/>\n",
              "    <path d=\"M18.56 5.44l.94 2.06.94-2.06 2.06-.94-2.06-.94-.94-2.06-.94 2.06-2.06.94zm-11 1L8.5 8.5l.94-2.06 2.06-.94-2.06-.94L8.5 2.5l-.94 2.06-2.06.94zm10 10l.94 2.06.94-2.06 2.06-.94-2.06-.94-.94-2.06-.94 2.06-2.06.94z\"/><path d=\"M17.41 7.96l-1.37-1.37c-.4-.4-.92-.59-1.43-.59-.52 0-1.04.2-1.43.59L10.3 9.45l-7.72 7.72c-.78.78-.78 2.05 0 2.83L4 21.41c.39.39.9.59 1.41.59.51 0 1.02-.2 1.41-.59l7.78-7.78 2.81-2.81c.8-.78.8-2.07 0-2.86zM5.41 20L4 18.59l7.72-7.72 1.47 1.35L5.41 20z\"/>\n",
              "  </svg>\n",
              "      </button>\n",
              "      \n",
              "  <style>\n",
              "    .colab-df-container {\n",
              "      display:flex;\n",
              "      flex-wrap:wrap;\n",
              "      gap: 12px;\n",
              "    }\n",
              "\n",
              "    .colab-df-convert {\n",
              "      background-color: #E8F0FE;\n",
              "      border: none;\n",
              "      border-radius: 50%;\n",
              "      cursor: pointer;\n",
              "      display: none;\n",
              "      fill: #1967D2;\n",
              "      height: 32px;\n",
              "      padding: 0 0 0 0;\n",
              "      width: 32px;\n",
              "    }\n",
              "\n",
              "    .colab-df-convert:hover {\n",
              "      background-color: #E2EBFA;\n",
              "      box-shadow: 0px 1px 2px rgba(60, 64, 67, 0.3), 0px 1px 3px 1px rgba(60, 64, 67, 0.15);\n",
              "      fill: #174EA6;\n",
              "    }\n",
              "\n",
              "    [theme=dark] .colab-df-convert {\n",
              "      background-color: #3B4455;\n",
              "      fill: #D2E3FC;\n",
              "    }\n",
              "\n",
              "    [theme=dark] .colab-df-convert:hover {\n",
              "      background-color: #434B5C;\n",
              "      box-shadow: 0px 1px 3px 1px rgba(0, 0, 0, 0.15);\n",
              "      filter: drop-shadow(0px 1px 2px rgba(0, 0, 0, 0.3));\n",
              "      fill: #FFFFFF;\n",
              "    }\n",
              "  </style>\n",
              "\n",
              "      <script>\n",
              "        const buttonEl =\n",
              "          document.querySelector('#df-22ac67e5-eba0-4fa3-b04a-b0b5730a1c83 button.colab-df-convert');\n",
              "        buttonEl.style.display =\n",
              "          google.colab.kernel.accessAllowed ? 'block' : 'none';\n",
              "\n",
              "        async function convertToInteractive(key) {\n",
              "          const element = document.querySelector('#df-22ac67e5-eba0-4fa3-b04a-b0b5730a1c83');\n",
              "          const dataTable =\n",
              "            await google.colab.kernel.invokeFunction('convertToInteractive',\n",
              "                                                     [key], {});\n",
              "          if (!dataTable) return;\n",
              "\n",
              "          const docLinkHtml = 'Like what you see? Visit the ' +\n",
              "            '<a target=\"_blank\" href=https://colab.research.google.com/notebooks/data_table.ipynb>data table notebook</a>'\n",
              "            + ' to learn more about interactive tables.';\n",
              "          element.innerHTML = '';\n",
              "          dataTable['output_type'] = 'display_data';\n",
              "          await google.colab.output.renderOutput(dataTable, element);\n",
              "          const docLink = document.createElement('div');\n",
              "          docLink.innerHTML = docLinkHtml;\n",
              "          element.appendChild(docLink);\n",
              "        }\n",
              "      </script>\n",
              "    </div>\n",
              "  </div>\n",
              "  "
            ]
          },
          "metadata": {},
          "execution_count": 35
        }
      ]
    },
    {
      "cell_type": "code",
      "source": [
        "# select x and y variables to compare\n",
        "plt.scatter(df['GOP2party2010'], df['Ideology'])\n",
        "\n",
        "# name the x and y labels\n",
        "plt.xlabel('Share of vote for reublicans in 2020')\n",
        "plt.ylabel('Ideology')\n",
        "\n",
        "# add a vertical red dashed line at the middle of the chart\n",
        "plt.vlines(x=0.5,\n",
        "           ymin=df['Ideology'].min(),\n",
        "           ymax=df['Ideology'].max(),\n",
        "           linestyles='dashed', colors='red')"
      ],
      "metadata": {
        "colab": {
          "base_uri": "https://localhost:8080/",
          "height": 296
        },
        "id": "CGc87n_v8Mup",
        "outputId": "0c8a74f7-ae98-48cb-8ee2-c94b08628f21"
      },
      "execution_count": 41,
      "outputs": [
        {
          "output_type": "execute_result",
          "data": {
            "text/plain": [
              "<matplotlib.collections.LineCollection at 0x7fb9d5aa7290>"
            ]
          },
          "metadata": {},
          "execution_count": 41
        },
        {
          "output_type": "display_data",
          "data": {
            "text/plain": [
              "<Figure size 432x288 with 1 Axes>"
            ],
            "image/png": "[encoded data removed]"
          },
          "metadata": {
            "needs_background": "light"
          }
        }
      ]
    },
    {
      "cell_type": "code",
      "source": [],
      "metadata": {
        "id": "RD4yyBab88QO"
      },
      "execution_count": null,
      "outputs": []
    }
  ]
}