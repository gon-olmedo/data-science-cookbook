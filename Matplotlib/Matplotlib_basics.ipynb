{
  "nbformat": 4,
  "nbformat_minor": 0,
  "metadata": {
    "colab": {
      "provenance": [],
      "authorship_tag": "ABX9TyPLfAHzMFFHa3i1XjyaLguf",
      "include_colab_link": true
    },
    "kernelspec": {
      "name": "python3",
      "display_name": "Python 3"
    },
    "language_info": {
      "name": "python"
    }
  },
  "cells": [
    {
      "cell_type": "markdown",
      "metadata": {
        "id": "view-in-github",
        "colab_type": "text"
      },
      "source": [
        "<a href=\"https://colab.research.google.com/github/gon-olmedo/data-science-cookbook/blob/main/Matplotlib/Matplotlib_basics.ipynb\" target=\"_parent\"><img src=\"https://colab.research.google.com/assets/colab-badge.svg\" alt=\"Open In Colab\"/></a>"
      ]
    },
    {
      "cell_type": "code",
      "execution_count": 2,
      "metadata": {
        "id": "-HxwoGlvf9WC"
      },
      "outputs": [],
      "source": [
        "import numpy as pd\n",
        "import pandas as pd\n",
        "import matplotlib.pyplot as plt"
      ]
    },
    {
      "cell_type": "code",
      "source": [
        "# Set axis range, X from 0 to 4 and Y from 0 to 12\n",
        "plt.axis([0,4,0,12])\n",
        "\n",
        "# Add a title\n",
        "plt.title('Quadratic')"
      ],
      "metadata": {
        "colab": {
          "base_uri": "https://localhost:8080/",
          "height": 298
        },
        "id": "6WpDr6vfgKPe",
        "outputId": "aa869b47-9eea-4592-9853-56bb1867706d"
      },
      "execution_count": 3,
      "outputs": [
        {
          "output_type": "execute_result",
          "data": {
            "text/plain": [
              "Text(0.5, 1.0, 'Quadratic')"
            ]
          },
          "metadata": {},
          "execution_count": 3
        },
        {
          "output_type": "display_data",
          "data": {
            "text/plain": [
              "<Figure size 432x288 with 1 Axes>"
            ],
            "image/png": "[encoded data removed]"
          },
          "metadata": {
            "needs_background": "light"
          }
        }
      ]
    },
    {
      "cell_type": "markdown",
      "source": [
        "# Basics of Charting"
      ],
      "metadata": {
        "id": "hoVOrMDr1dL4"
      }
    },
    {
      "cell_type": "code",
      "source": [
        "# what we had before\n",
        "plt.axis([0,4,0,12])\n",
        "plt.title('Quadratic')\n",
        "\n",
        "# Add 4 red dots based on the following coordenates (X,Y):\n",
        "# 1) at (0,0)\n",
        "# 2) at (1,1)\n",
        "# 3) at (2,4)\n",
        "# 4) at (3,9)\n",
        "plt.plot([0,1,2,3], [0,1,4,9], 'ro')"
      ],
      "metadata": {
        "colab": {
          "base_uri": "https://localhost:8080/",
          "height": 298
        },
        "id": "F1E1Kr9GgetJ",
        "outputId": "a3c9afad-86fe-4227-83f7-c580017be019"
      },
      "execution_count": 4,
      "outputs": [
        {
          "output_type": "execute_result",
          "data": {
            "text/plain": [
              "[<matplotlib.lines.Line2D at 0x7fb9db223950>]"
            ]
          },
          "metadata": {},
          "execution_count": 4
        },
        {
          "output_type": "display_data",
          "data": {
            "text/plain": [
              "<Figure size 432x288 with 1 Axes>"
            ],
            "image/png": "[encoded data removed]"
          },
          "metadata": {
            "needs_background": "light"
          }
        }
      ]
    },
    {
      "cell_type": "code",
      "source": [
        "# what we had before\n",
        "plt.axis([0,4,0,12])\n",
        "plt.title('Quadratic')\n",
        "plt.plot([0,1,2,3], [0,1,4,9], 'ro')\n",
        "\n",
        "# Add a horizontal solid blue line at Y = 9, for X range 0 to 3\n",
        "plt.hlines(9,0,3, colors='blue', linestyles='solid')"
      ],
      "metadata": {
        "colab": {
          "base_uri": "https://localhost:8080/",
          "height": 298
        },
        "id": "-rKQxx8ohehU",
        "outputId": "93a93c23-d8a0-47bd-ccdc-e1b4b18b21c9"
      },
      "execution_count": 5,
      "outputs": [
        {
          "output_type": "execute_result",
          "data": {
            "text/plain": [
              "<matplotlib.collections.LineCollection at 0x7fb9db91b2d0>"
            ]
          },
          "metadata": {},
          "execution_count": 5
        },
        {
          "output_type": "display_data",
          "data": {
            "text/plain": [
              "<Figure size 432x288 with 1 Axes>"
            ],
            "image/png": "[encoded data removed]"
          },
          "metadata": {
            "needs_background": "light"
          }
        }
      ]
    },
    {
      "cell_type": "code",
      "source": [
        "# what we had before\n",
        "plt.axis([0,4,0,12])\n",
        "plt.title('Quadratic')\n",
        "plt.plot([0,1,2,3], [0,1,4,9], 'ro')\n",
        "plt.hlines(9,0,3, colors='blue', linestyles='solid')\n",
        "\n",
        "# Add a vertical dotted green line at X = 3, for range Y 0 to 9\n",
        "plt.vlines(3,0,9, colors='green', linestyles='dotted')"
      ],
      "metadata": {
        "colab": {
          "base_uri": "https://localhost:8080/",
          "height": 298
        },
        "id": "y0Wu71fGiegS",
        "outputId": "8cbb5278-5d7a-4e38-b615-b7e50829bbb9"
      },
      "execution_count": 6,
      "outputs": [
        {
          "output_type": "execute_result",
          "data": {
            "text/plain": [
              "<matplotlib.collections.LineCollection at 0x7fb9db11fa50>"
            ]
          },
          "metadata": {},
          "execution_count": 6
        },
        {
          "output_type": "display_data",
          "data": {
            "text/plain": [
              "<Figure size 432x288 with 1 Axes>"
            ],
            "image/png": "[encoded data removed]"
          },
          "metadata": {
            "needs_background": "light"
          }
        }
      ]
    },
    {
      "cell_type": "code",
      "source": [
        "# what we had before\n",
        "plt.axis([0,4,0,12])\n",
        "plt.title('Quadratic')\n",
        "plt.plot([0,1,2,3], [0,1,4,9], 'ro')\n",
        "plt.hlines(9,0,3, colors='blue', linestyles='solid')\n",
        "plt.vlines(3,0,9, colors='green', linestyles='dotted')\n",
        "\n",
        "# label de axes and show and name legend of the data\n",
        "plt.xlabel('X Values')\n",
        "plt.ylabel('Y Values')\n",
        "plt.legend(['First Series'])"
      ],
      "metadata": {
        "colab": {
          "base_uri": "https://localhost:8080/",
          "height": 312
        },
        "id": "cPX3bMkGjOX2",
        "outputId": "1bb4dec0-e177-437c-835c-bcbfd50d70b1"
      },
      "execution_count": 8,
      "outputs": [
        {
          "output_type": "execute_result",
          "data": {
            "text/plain": [
              "<matplotlib.legend.Legend at 0x7fb9d75973d0>"
            ]
          },
          "metadata": {},
          "execution_count": 8
        },
        {
          "output_type": "display_data",
          "data": {
            "text/plain": [
              "<Figure size 432x288 with 1 Axes>"
            ],
            "image/png": "[encoded data removed]"
          },
          "metadata": {
            "needs_background": "light"
          }
        }
      ]
    },
    {
      "cell_type": "code",
      "source": [
        "# what we had before\n",
        "plt.axis([0,4,0,12])\n",
        "plt.title('Quadratic')\n",
        "plt.plot([0,1,2,3], [0,1,4,9], 'ro')\n",
        "plt.hlines(9,0,3, colors='blue', linestyles='solid')\n",
        "plt.vlines(3,0,9, colors='green', linestyles='dotted')\n",
        "plt.xlabel('X Values')\n",
        "plt.ylabel('Y Values')\n",
        "plt.legend(['First Series'])\n",
        "\n",
        "# Add text to the chart:\n",
        "#  at coordenate (2,4) write '(2.4)'\n",
        "plt.text(2,4,'(2,4)')\n",
        "\n",
        "# at coordenate (0.5,6) add a yellow textbox containing the formula y = x^2\n",
        "plt.text(0.5,6, r'$y = x^2$', fontsize=25, bbox={'facecolor':'yellow',\n",
        "                                                 'alpha':0.2})"
      ],
      "metadata": {
        "colab": {
          "base_uri": "https://localhost:8080/",
          "height": 312
        },
        "id": "M4XB2Wd6xsBN",
        "outputId": "37a71ef0-c5db-420a-dbea-9800f5a6920a"
      },
      "execution_count": 14,
      "outputs": [
        {
          "output_type": "execute_result",
          "data": {
            "text/plain": [
              "Text(0.5, 6, '$y = x^2$')"
            ]
          },
          "metadata": {},
          "execution_count": 14
        },
        {
          "output_type": "display_data",
          "data": {
            "text/plain": [
              "<Figure size 432x288 with 1 Axes>"
            ],
            "image/png": "[encoded data removed]"
          },
          "metadata": {
            "needs_background": "light"
          }
        }
      ]
    },
    {
      "cell_type": "markdown",
      "source": [
        "# Boxplot & Histogram"
      ],
      "metadata": {
        "id": "zHPDS7L41PjG"
      }
    },
    {
      "cell_type": "code",
      "source": [],
      "metadata": {
        "id": "g3AuHAuCyVdP"
      },
      "execution_count": null,
      "outputs": []
    }
  ]
}