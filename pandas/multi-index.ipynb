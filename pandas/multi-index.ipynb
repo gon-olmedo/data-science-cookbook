{
 "metadata": {
  "language_info": {
   "codemirror_mode": {
    "name": "ipython",
    "version": 3
   },
   "file_extension": ".py",
   "mimetype": "text/x-python",
   "name": "python",
   "nbconvert_exporter": "python",
   "pygments_lexer": "ipython3",
   "version": "3.8.5-final"
  },
  "orig_nbformat": 2,
  "kernelspec": {
   "name": "python3",
   "display_name": "Python 3"
  }
 },
 "nbformat": 4,
 "nbformat_minor": 2,
 "cells": [
  {
   "source": [
    "# How to work with groupby and multi-index"
   ],
   "cell_type": "markdown",
   "metadata": {}
  },
  {
   "cell_type": "code",
   "execution_count": 1,
   "metadata": {},
   "outputs": [],
   "source": [
    "import pandas as pd\n",
    "import numpy as np"
   ]
  },
  {
   "cell_type": "code",
   "execution_count": 2,
   "metadata": {},
   "outputs": [
    {
     "output_type": "execute_result",
     "data": {
      "text/plain": [
       "   MONTH  DAY  WEEKDAY AIRLINE ORG_AIR DEST_AIR  SCHED_DEP  DEP_DELAY  \\\n",
       "0      1    1        4      WN     LAX      SLC       1625       58.0   \n",
       "1      1    1        4      UA     DEN      IAD        823        7.0   \n",
       "2      1    1        4      MQ     DFW      VPS       1305       36.0   \n",
       "\n",
       "   AIR_TIME  DIST  SCHED_ARR  ARR_DELAY  DIVERTED  CANCELLED  \n",
       "0      94.0   590       1905       65.0         0          0  \n",
       "1     154.0  1452       1333      -13.0         0          0  \n",
       "2      85.0   641       1453       35.0         0          0  "
      ],
      "text/html": "<div>\n<style scoped>\n    .dataframe tbody tr th:only-of-type {\n        vertical-align: middle;\n    }\n\n    .dataframe tbody tr th {\n        vertical-align: top;\n    }\n\n    .dataframe thead th {\n        text-align: right;\n    }\n</style>\n<table border=\"1\" class=\"dataframe\">\n  <thead>\n    <tr style=\"text-align: right;\">\n      <th></th>\n      <th>MONTH</th>\n      <th>DAY</th>\n      <th>WEEKDAY</th>\n      <th>AIRLINE</th>\n      <th>ORG_AIR</th>\n      <th>DEST_AIR</th>\n      <th>SCHED_DEP</th>\n      <th>DEP_DELAY</th>\n      <th>AIR_TIME</th>\n      <th>DIST</th>\n      <th>SCHED_ARR</th>\n      <th>ARR_DELAY</th>\n      <th>DIVERTED</th>\n      <th>CANCELLED</th>\n    </tr>\n  </thead>\n  <tbody>\n    <tr>\n      <th>0</th>\n      <td>1</td>\n      <td>1</td>\n      <td>4</td>\n      <td>WN</td>\n      <td>LAX</td>\n      <td>SLC</td>\n      <td>1625</td>\n      <td>58.0</td>\n      <td>94.0</td>\n      <td>590</td>\n      <td>1905</td>\n      <td>65.0</td>\n      <td>0</td>\n      <td>0</td>\n    </tr>\n    <tr>\n      <th>1</th>\n      <td>1</td>\n      <td>1</td>\n      <td>4</td>\n      <td>UA</td>\n      <td>DEN</td>\n      <td>IAD</td>\n      <td>823</td>\n      <td>7.0</td>\n      <td>154.0</td>\n      <td>1452</td>\n      <td>1333</td>\n      <td>-13.0</td>\n      <td>0</td>\n      <td>0</td>\n    </tr>\n    <tr>\n      <th>2</th>\n      <td>1</td>\n      <td>1</td>\n      <td>4</td>\n      <td>MQ</td>\n      <td>DFW</td>\n      <td>VPS</td>\n      <td>1305</td>\n      <td>36.0</td>\n      <td>85.0</td>\n      <td>641</td>\n      <td>1453</td>\n      <td>35.0</td>\n      <td>0</td>\n      <td>0</td>\n    </tr>\n  </tbody>\n</table>\n</div>"
     },
     "metadata": {},
     "execution_count": 2
    }
   ],
   "source": [
    "# import data\n",
    "flights = pd.read_csv('flights.csv')\n",
    "flights.head(3)"
   ]
  },
  {
   "source": [
    "find the total and average miles flown, and the maximum and minimum arrival delay for each airline for each weekday"
   ],
   "cell_type": "markdown",
   "metadata": {}
  },
  {
   "cell_type": "code",
   "execution_count": 3,
   "metadata": {},
   "outputs": [
    {
     "output_type": "execute_result",
     "data": {
      "text/plain": [
       "                    DIST       ARR_DELAY    \n",
       "                     sum  mean       max min\n",
       "AIRLINE WEEKDAY                             \n",
       "AA      1        1455386  1139       551 -60\n",
       "        2        1358256  1107       725 -52\n",
       "        3        1496665  1117       473 -45\n",
       "        4        1452394  1089       349 -46\n",
       "        5        1427749  1122       732 -41\n",
       "...                  ...   ...       ...  ..\n",
       "WN      3         997213   782       262 -38\n",
       "        4        1024854   810       284 -52\n",
       "        5         981036   816       244 -44\n",
       "        6         823946   834       290 -41\n",
       "        7         945679   819       261 -45\n",
       "\n",
       "[98 rows x 4 columns]"
      ],
      "text/html": "<div>\n<style scoped>\n    .dataframe tbody tr th:only-of-type {\n        vertical-align: middle;\n    }\n\n    .dataframe tbody tr th {\n        vertical-align: top;\n    }\n\n    .dataframe thead tr th {\n        text-align: left;\n    }\n\n    .dataframe thead tr:last-of-type th {\n        text-align: right;\n    }\n</style>\n<table border=\"1\" class=\"dataframe\">\n  <thead>\n    <tr>\n      <th></th>\n      <th></th>\n      <th colspan=\"2\" halign=\"left\">DIST</th>\n      <th colspan=\"2\" halign=\"left\">ARR_DELAY</th>\n    </tr>\n    <tr>\n      <th></th>\n      <th></th>\n      <th>sum</th>\n      <th>mean</th>\n      <th>max</th>\n      <th>min</th>\n    </tr>\n    <tr>\n      <th>AIRLINE</th>\n      <th>WEEKDAY</th>\n      <th></th>\n      <th></th>\n      <th></th>\n      <th></th>\n    </tr>\n  </thead>\n  <tbody>\n    <tr>\n      <th rowspan=\"5\" valign=\"top\">AA</th>\n      <th>1</th>\n      <td>1455386</td>\n      <td>1139</td>\n      <td>551</td>\n      <td>-60</td>\n    </tr>\n    <tr>\n      <th>2</th>\n      <td>1358256</td>\n      <td>1107</td>\n      <td>725</td>\n      <td>-52</td>\n    </tr>\n    <tr>\n      <th>3</th>\n      <td>1496665</td>\n      <td>1117</td>\n      <td>473</td>\n      <td>-45</td>\n    </tr>\n    <tr>\n      <th>4</th>\n      <td>1452394</td>\n      <td>1089</td>\n      <td>349</td>\n      <td>-46</td>\n    </tr>\n    <tr>\n      <th>5</th>\n      <td>1427749</td>\n      <td>1122</td>\n      <td>732</td>\n      <td>-41</td>\n    </tr>\n    <tr>\n      <th>...</th>\n      <th>...</th>\n      <td>...</td>\n      <td>...</td>\n      <td>...</td>\n      <td>...</td>\n    </tr>\n    <tr>\n      <th rowspan=\"5\" valign=\"top\">WN</th>\n      <th>3</th>\n      <td>997213</td>\n      <td>782</td>\n      <td>262</td>\n      <td>-38</td>\n    </tr>\n    <tr>\n      <th>4</th>\n      <td>1024854</td>\n      <td>810</td>\n      <td>284</td>\n      <td>-52</td>\n    </tr>\n    <tr>\n      <th>5</th>\n      <td>981036</td>\n      <td>816</td>\n      <td>244</td>\n      <td>-44</td>\n    </tr>\n    <tr>\n      <th>6</th>\n      <td>823946</td>\n      <td>834</td>\n      <td>290</td>\n      <td>-41</td>\n    </tr>\n    <tr>\n      <th>7</th>\n      <td>945679</td>\n      <td>819</td>\n      <td>261</td>\n      <td>-45</td>\n    </tr>\n  </tbody>\n</table>\n<p>98 rows × 4 columns</p>\n</div>"
     },
     "metadata": {},
     "execution_count": 3
    }
   ],
   "source": [
    "airline_info = (flights\n",
    "    .groupby(['AIRLINE', 'WEEKDAY']) # define group by columns\n",
    "    .agg({'DIST': ['sum', 'mean'],  # define agg columns + agg function\n",
    "        'ARR_DELAY': ['max', 'min']})\n",
    "    .astype(int) # in this case the results are interger so we save memory with astype\n",
    ")\n",
    "\n",
    "airline_info"
   ]
  },
  {
   "cell_type": "code",
   "execution_count": 4,
   "metadata": {},
   "outputs": [
    {
     "output_type": "execute_result",
     "data": {
      "text/plain": [
       "                 DIST_sum  DIST_mean  ARR_DELAY_max  ARR_DELAY_min\n",
       "AIRLINE WEEKDAY                                                   \n",
       "AA      1         1455386       1139            551            -60\n",
       "        2         1358256       1107            725            -52\n",
       "        3         1496665       1117            473            -45\n",
       "        4         1452394       1089            349            -46\n",
       "        5         1427749       1122            732            -41\n",
       "...                   ...        ...            ...            ...\n",
       "WN      3          997213        782            262            -38\n",
       "        4         1024854        810            284            -52\n",
       "        5          981036        816            244            -44\n",
       "        6          823946        834            290            -41\n",
       "        7          945679        819            261            -45\n",
       "\n",
       "[98 rows x 4 columns]"
      ],
      "text/html": "<div>\n<style scoped>\n    .dataframe tbody tr th:only-of-type {\n        vertical-align: middle;\n    }\n\n    .dataframe tbody tr th {\n        vertical-align: top;\n    }\n\n    .dataframe thead th {\n        text-align: right;\n    }\n</style>\n<table border=\"1\" class=\"dataframe\">\n  <thead>\n    <tr style=\"text-align: right;\">\n      <th></th>\n      <th></th>\n      <th>DIST_sum</th>\n      <th>DIST_mean</th>\n      <th>ARR_DELAY_max</th>\n      <th>ARR_DELAY_min</th>\n    </tr>\n    <tr>\n      <th>AIRLINE</th>\n      <th>WEEKDAY</th>\n      <th></th>\n      <th></th>\n      <th></th>\n      <th></th>\n    </tr>\n  </thead>\n  <tbody>\n    <tr>\n      <th rowspan=\"5\" valign=\"top\">AA</th>\n      <th>1</th>\n      <td>1455386</td>\n      <td>1139</td>\n      <td>551</td>\n      <td>-60</td>\n    </tr>\n    <tr>\n      <th>2</th>\n      <td>1358256</td>\n      <td>1107</td>\n      <td>725</td>\n      <td>-52</td>\n    </tr>\n    <tr>\n      <th>3</th>\n      <td>1496665</td>\n      <td>1117</td>\n      <td>473</td>\n      <td>-45</td>\n    </tr>\n    <tr>\n      <th>4</th>\n      <td>1452394</td>\n      <td>1089</td>\n      <td>349</td>\n      <td>-46</td>\n    </tr>\n    <tr>\n      <th>5</th>\n      <td>1427749</td>\n      <td>1122</td>\n      <td>732</td>\n      <td>-41</td>\n    </tr>\n    <tr>\n      <th>...</th>\n      <th>...</th>\n      <td>...</td>\n      <td>...</td>\n      <td>...</td>\n      <td>...</td>\n    </tr>\n    <tr>\n      <th rowspan=\"5\" valign=\"top\">WN</th>\n      <th>3</th>\n      <td>997213</td>\n      <td>782</td>\n      <td>262</td>\n      <td>-38</td>\n    </tr>\n    <tr>\n      <th>4</th>\n      <td>1024854</td>\n      <td>810</td>\n      <td>284</td>\n      <td>-52</td>\n    </tr>\n    <tr>\n      <th>5</th>\n      <td>981036</td>\n      <td>816</td>\n      <td>244</td>\n      <td>-44</td>\n    </tr>\n    <tr>\n      <th>6</th>\n      <td>823946</td>\n      <td>834</td>\n      <td>290</td>\n      <td>-41</td>\n    </tr>\n    <tr>\n      <th>7</th>\n      <td>945679</td>\n      <td>819</td>\n      <td>261</td>\n      <td>-45</td>\n    </tr>\n  </tbody>\n</table>\n<p>98 rows × 4 columns</p>\n</div>"
     },
     "metadata": {},
     "execution_count": 4
    }
   ],
   "source": [
    "# flatten the index\n",
    "\n",
    "# comprehension list to join the siblevels of indices\n",
    "airline_info.columns = ['_'.join(x) for x in\n",
    "                        airline_info.columns.to_flat_index()]\n",
    "\n",
    "airline_info"
   ]
  },
  {
   "cell_type": "code",
   "execution_count": 5,
   "metadata": {},
   "outputs": [
    {
     "output_type": "execute_result",
     "data": {
      "text/plain": [
       "   AIRLINE  WEEKDAY  DIST_sum  DIST_mean  ARR_DELAY_max  ARR_DELAY_min\n",
       "0       AA        1   1455386       1139            551            -60\n",
       "1       AA        2   1358256       1107            725            -52\n",
       "2       AA        3   1496665       1117            473            -45\n",
       "3       AA        4   1452394       1089            349            -46\n",
       "4       AA        5   1427749       1122            732            -41\n",
       "..     ...      ...       ...        ...            ...            ...\n",
       "93      WN        3    997213        782            262            -38\n",
       "94      WN        4   1024854        810            284            -52\n",
       "95      WN        5    981036        816            244            -44\n",
       "96      WN        6    823946        834            290            -41\n",
       "97      WN        7    945679        819            261            -45\n",
       "\n",
       "[98 rows x 6 columns]"
      ],
      "text/html": "<div>\n<style scoped>\n    .dataframe tbody tr th:only-of-type {\n        vertical-align: middle;\n    }\n\n    .dataframe tbody tr th {\n        vertical-align: top;\n    }\n\n    .dataframe thead th {\n        text-align: right;\n    }\n</style>\n<table border=\"1\" class=\"dataframe\">\n  <thead>\n    <tr style=\"text-align: right;\">\n      <th></th>\n      <th>AIRLINE</th>\n      <th>WEEKDAY</th>\n      <th>DIST_sum</th>\n      <th>DIST_mean</th>\n      <th>ARR_DELAY_max</th>\n      <th>ARR_DELAY_min</th>\n    </tr>\n  </thead>\n  <tbody>\n    <tr>\n      <th>0</th>\n      <td>AA</td>\n      <td>1</td>\n      <td>1455386</td>\n      <td>1139</td>\n      <td>551</td>\n      <td>-60</td>\n    </tr>\n    <tr>\n      <th>1</th>\n      <td>AA</td>\n      <td>2</td>\n      <td>1358256</td>\n      <td>1107</td>\n      <td>725</td>\n      <td>-52</td>\n    </tr>\n    <tr>\n      <th>2</th>\n      <td>AA</td>\n      <td>3</td>\n      <td>1496665</td>\n      <td>1117</td>\n      <td>473</td>\n      <td>-45</td>\n    </tr>\n    <tr>\n      <th>3</th>\n      <td>AA</td>\n      <td>4</td>\n      <td>1452394</td>\n      <td>1089</td>\n      <td>349</td>\n      <td>-46</td>\n    </tr>\n    <tr>\n      <th>4</th>\n      <td>AA</td>\n      <td>5</td>\n      <td>1427749</td>\n      <td>1122</td>\n      <td>732</td>\n      <td>-41</td>\n    </tr>\n    <tr>\n      <th>...</th>\n      <td>...</td>\n      <td>...</td>\n      <td>...</td>\n      <td>...</td>\n      <td>...</td>\n      <td>...</td>\n    </tr>\n    <tr>\n      <th>93</th>\n      <td>WN</td>\n      <td>3</td>\n      <td>997213</td>\n      <td>782</td>\n      <td>262</td>\n      <td>-38</td>\n    </tr>\n    <tr>\n      <th>94</th>\n      <td>WN</td>\n      <td>4</td>\n      <td>1024854</td>\n      <td>810</td>\n      <td>284</td>\n      <td>-52</td>\n    </tr>\n    <tr>\n      <th>95</th>\n      <td>WN</td>\n      <td>5</td>\n      <td>981036</td>\n      <td>816</td>\n      <td>244</td>\n      <td>-44</td>\n    </tr>\n    <tr>\n      <th>96</th>\n      <td>WN</td>\n      <td>6</td>\n      <td>823946</td>\n      <td>834</td>\n      <td>290</td>\n      <td>-41</td>\n    </tr>\n    <tr>\n      <th>97</th>\n      <td>WN</td>\n      <td>7</td>\n      <td>945679</td>\n      <td>819</td>\n      <td>261</td>\n      <td>-45</td>\n    </tr>\n  </tbody>\n</table>\n<p>98 rows × 6 columns</p>\n</div>"
     },
     "metadata": {},
     "execution_count": 5
    }
   ],
   "source": [
    "# you can reset the index to provide a line by line repetition\n",
    "# on the outer index level\n",
    "airline_info.reset_index()"
   ]
  },
  {
   "cell_type": "code",
   "execution_count": null,
   "metadata": {},
   "outputs": [],
   "source": []
  }
 ]
}