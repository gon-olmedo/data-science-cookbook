{
  "nbformat": 4,
  "nbformat_minor": 0,
  "metadata": {
    "colab": {
      "provenance": [],
      "authorship_tag": "ABX9TyMoq3b9+BcoG9WDoiXTPjnE",
      "include_colab_link": true
    },
    "kernelspec": {
      "name": "python3",
      "display_name": "Python 3"
    },
    "language_info": {
      "name": "python"
    }
  },
  "cells": [
    {
      "cell_type": "markdown",
      "metadata": {
        "id": "view-in-github",
        "colab_type": "text"
      },
      "source": [
        "<a href=\"https://colab.research.google.com/github/gon-olmedo/data-science-cookbook/blob/main/Enumerate.ipynb\" target=\"_parent\"><img src=\"https://colab.research.google.com/assets/colab-badge.svg\" alt=\"Open In Colab\"/></a>"
      ]
    },
    {
      "cell_type": "code",
      "execution_count": 1,
      "metadata": {
        "colab": {
          "base_uri": "https://localhost:8080/"
        },
        "id": "h8x0IGKHwFGD",
        "outputId": "f341b4aa-67c1-4ff7-8c88-7184c269e755"
      },
      "outputs": [
        {
          "output_type": "stream",
          "name": "stdout",
          "text": [
            "7\n",
            "5\n",
            "9.1\n",
            "string\n"
          ]
        }
      ],
      "source": [
        "LIST = [7, '5', 9.1, 'string']\n",
        "\n",
        "for item in LIST:\n",
        "  print(item)"
      ]
    },
    {
      "cell_type": "code",
      "source": [
        "for index, item in enumerate(LIST):\n",
        "  print(index, '->', item)"
      ],
      "metadata": {
        "colab": {
          "base_uri": "https://localhost:8080/"
        },
        "id": "Qj7OpmR5wQVs",
        "outputId": "5f355eec-8dad-4de9-dfff-cfba56b5b2e7"
      },
      "execution_count": 5,
      "outputs": [
        {
          "output_type": "stream",
          "name": "stdout",
          "text": [
            "0 -> 7\n",
            "1 -> 5\n",
            "2 -> 9.1\n",
            "3 -> string\n"
          ]
        }
      ]
    },
    {
      "cell_type": "code",
      "source": [
        "for index, letter in enumerate('string'):\n",
        "  print(index, '->', letter)"
      ],
      "metadata": {
        "colab": {
          "base_uri": "https://localhost:8080/"
        },
        "id": "Oudirk3fwy6i",
        "outputId": "2a7d7dc1-db54-4023-de27-be89a7e2b33d"
      },
      "execution_count": 7,
      "outputs": [
        {
          "output_type": "stream",
          "name": "stdout",
          "text": [
            "0 -> s\n",
            "1 -> t\n",
            "2 -> r\n",
            "3 -> i\n",
            "4 -> n\n",
            "5 -> g\n"
          ]
        }
      ]
    },
    {
      "cell_type": "code",
      "source": [
        "# you can control the start interger of the index\n",
        "for index, letter in enumerate('string', start=1):\n",
        "  print(index, '->', letter)"
      ],
      "metadata": {
        "colab": {
          "base_uri": "https://localhost:8080/"
        },
        "id": "83c-MyRnz5c1",
        "outputId": "bba8060f-000b-4155-bdde-ffe25448ba03"
      },
      "execution_count": 10,
      "outputs": [
        {
          "output_type": "stream",
          "name": "stdout",
          "text": [
            "1 -> s\n",
            "2 -> t\n",
            "3 -> r\n",
            "4 -> i\n",
            "5 -> n\n",
            "6 -> g\n"
          ]
        }
      ]
    },
    {
      "cell_type": "code",
      "source": [
        "import numpy as np\n",
        "\n",
        "array = np.array([1.1, 2, 3, 4])\n",
        "\n",
        "for index, item in enumerate(array):\n",
        "  print(index, '->', item)"
      ],
      "metadata": {
        "colab": {
          "base_uri": "https://localhost:8080/"
        },
        "id": "BVU_aNPfxUnn",
        "outputId": "551b3adb-ba78-4a9b-cebd-d0aa50d37437"
      },
      "execution_count": 8,
      "outputs": [
        {
          "output_type": "stream",
          "name": "stdout",
          "text": [
            "0 -> 1.1\n",
            "1 -> 2.0\n",
            "2 -> 3.0\n",
            "3 -> 4.0\n"
          ]
        }
      ]
    },
    {
      "cell_type": "code",
      "source": [],
      "metadata": {
        "id": "CRtUfZbuyOE9"
      },
      "execution_count": null,
      "outputs": []
    }
  ]
}