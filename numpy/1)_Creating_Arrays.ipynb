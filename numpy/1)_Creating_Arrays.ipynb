{
  "nbformat": 4,
  "nbformat_minor": 0,
  "metadata": {
    "colab": {
      "provenance": [],
      "authorship_tag": "ABX9TyMt4b6tVYsj+mVmDcq7qByu",
      "include_colab_link": true
    },
    "kernelspec": {
      "name": "python3",
      "display_name": "Python 3"
    },
    "language_info": {
      "name": "python"
    }
  },
  "cells": [
    {
      "cell_type": "markdown",
      "metadata": {
        "id": "view-in-github",
        "colab_type": "text"
      },
      "source": [
        "<a href=\"https://colab.research.google.com/github/gon-olmedo/data-science-cookbook/blob/main/numpy/1)_Creating_Arrays.ipynb\" target=\"_parent\"><img src=\"https://colab.research.google.com/assets/colab-badge.svg\" alt=\"Open In Colab\"/></a>"
      ]
    },
    {
      "cell_type": "markdown",
      "source": [
        "**Numpy**: Creating Arrays"
      ],
      "metadata": {
        "id": "UjdKO5LAfsm0"
      }
    },
    {
      "cell_type": "code",
      "source": [
        "import numpy as np"
      ],
      "metadata": {
        "id": "_XPIFgZthQ-K"
      },
      "execution_count": 9,
      "outputs": []
    },
    {
      "cell_type": "code",
      "source": [
        "# Create array of 2 rows and 3 columns filled with the number 0\n",
        "\n",
        "np.zeros((2,3))"
      ],
      "metadata": {
        "colab": {
          "base_uri": "https://localhost:8080/"
        },
        "id": "4RW6CXLUiSW-",
        "outputId": "7e323f88-aafc-49b8-fe20-83b9a011a9d7"
      },
      "execution_count": 10,
      "outputs": [
        {
          "output_type": "execute_result",
          "data": {
            "text/plain": [
              "array([[0., 0., 0.],\n",
              "       [0., 0., 0.]])"
            ]
          },
          "metadata": {},
          "execution_count": 10
        }
      ]
    },
    {
      "cell_type": "code",
      "source": [
        "# create an array of 3 rows and 2 columns filled with random numbers\n",
        "\n",
        "np.random.random((3,2))"
      ],
      "metadata": {
        "colab": {
          "base_uri": "https://localhost:8080/"
        },
        "id": "hUixbSMrijLr",
        "outputId": "888dbfb7-12f2-4e06-b7ef-91dd9aa99869"
      },
      "execution_count": 11,
      "outputs": [
        {
          "output_type": "execute_result",
          "data": {
            "text/plain": [
              "array([[0.07783958, 0.38903553],\n",
              "       [0.5128756 , 0.24839494],\n",
              "       [0.53668711, 0.94455951]])"
            ]
          },
          "metadata": {},
          "execution_count": 11
        }
      ]
    },
    {
      "cell_type": "code",
      "source": [
        "# create an array a 1D array from numbers starting with 0\n",
        "# ending with at 9 and with a difference of 3 per sequence\n",
        "np.arange(0, 10, 3)"
      ],
      "metadata": {
        "colab": {
          "base_uri": "https://localhost:8080/"
        },
        "id": "e9AkOV8vizXW",
        "outputId": "9022804a-9bc1-418d-a4c4-f761e8727a1d"
      },
      "execution_count": 14,
      "outputs": [
        {
          "output_type": "execute_result",
          "data": {
            "text/plain": [
              "array([0, 3, 6, 9])"
            ]
          },
          "metadata": {},
          "execution_count": 14
        }
      ]
    },
    {
      "cell_type": "code",
      "source": [],
      "metadata": {
        "id": "0u3cPO-ZjSYv"
      },
      "execution_count": null,
      "outputs": []
    }
  ]
}