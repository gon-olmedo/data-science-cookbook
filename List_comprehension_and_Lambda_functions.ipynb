{
  "nbformat": 4,
  "nbformat_minor": 0,
  "metadata": {
    "colab": {
      "provenance": [],
      "authorship_tag": "ABX9TyOrItTEtV+FfA0Hy12D3e5j",
      "include_colab_link": true
    },
    "kernelspec": {
      "name": "python3",
      "display_name": "Python 3"
    },
    "language_info": {
      "name": "python"
    }
  },
  "cells": [
    {
      "cell_type": "markdown",
      "metadata": {
        "id": "view-in-github",
        "colab_type": "text"
      },
      "source": [
        "<a href=\"https://colab.research.google.com/github/gon-olmedo/data-science-cookbook/blob/main/List_comprehension_and_Lambda_functions.ipynb\" target=\"_parent\"><img src=\"https://colab.research.google.com/assets/colab-badge.svg\" alt=\"Open In Colab\"/></a>"
      ]
    },
    {
      "cell_type": "code",
      "execution_count": 5,
      "metadata": {
        "colab": {
          "base_uri": "https://localhost:8080/"
        },
        "id": "QoT92OZNHI3O",
        "outputId": "961bc501-fecd-49cb-d47d-be0652fae39f"
      },
      "outputs": [
        {
          "output_type": "stream",
          "name": "stdout",
          "text": [
            "0 -> 0\n",
            "1 -> 1\n",
            "2 -> 4\n",
            "3 -> 9\n",
            "4 -> 16\n",
            "5 -> 25\n",
            "6 -> 36\n",
            "\n",
            "list: [0, 1, 4, 9, 16, 25, 36]\n"
          ]
        }
      ],
      "source": [
        "# we will create a list of squares using a loop\n",
        "squares = []\n",
        "\n",
        "for x in range(7):\n",
        "  squares.append(x**2)\n",
        "  print(x, '->', squares[x]) # printing what the loop is doing for educatinal purposes\n",
        "\n",
        "print('\\nlist:',squares)"
      ]
    },
    {
      "cell_type": "code",
      "source": [
        "# you can accomplish the same lop with list comprehension\n",
        "\n",
        "[x**2 for x in range(7)]"
      ],
      "metadata": {
        "colab": {
          "base_uri": "https://localhost:8080/"
        },
        "id": "rJOEH5l5Hk9H",
        "outputId": "4a42b4ae-42ee-4717-b05c-7d999ce71062"
      },
      "execution_count": 7,
      "outputs": [
        {
          "output_type": "execute_result",
          "data": {
            "text/plain": [
              "[0, 1, 4, 9, 16, 25, 36]"
            ]
          },
          "metadata": {},
          "execution_count": 7
        }
      ]
    },
    {
      "cell_type": "code",
      "source": [
        "# You can add conditions to a list comprehension\n",
        "[x**2 for x in range(7) if x % 2 == 0]"
      ],
      "metadata": {
        "colab": {
          "base_uri": "https://localhost:8080/"
        },
        "id": "bOXjzm87LIjJ",
        "outputId": "bad96de8-95b0-4ee8-af92-79071a35d765"
      },
      "execution_count": 12,
      "outputs": [
        {
          "output_type": "execute_result",
          "data": {
            "text/plain": [
              "[0, 4, 16, 36]"
            ]
          },
          "metadata": {},
          "execution_count": 12
        }
      ]
    },
    {
      "cell_type": "code",
      "source": [
        "# or using a lambda function\n",
        "\n",
        "list(map(lambda x: x**2, range(7)))"
      ],
      "metadata": {
        "colab": {
          "base_uri": "https://localhost:8080/"
        },
        "id": "OUNod6HDIQNE",
        "outputId": "73233c37-d868-406c-effa-70c87d24e3a2"
      },
      "execution_count": 8,
      "outputs": [
        {
          "output_type": "execute_result",
          "data": {
            "text/plain": [
              "[0, 1, 4, 9, 16, 25, 36]"
            ]
          },
          "metadata": {},
          "execution_count": 8
        }
      ]
    },
    {
      "cell_type": "code",
      "source": [
        "# breakdown of lambda function\n",
        "(list( # convert to list what is in the argument\n",
        "    map( # map value1 -> value2 given a relation such as function or dictionary\n",
        "        lambda x: x**2, # value1 of map, create on the fly function -> f(x): x^2\n",
        "        range(7) # value2 of map, is the input for the lambda function\n",
        "        )\n",
        "    )\n",
        ")"
      ],
      "metadata": {
        "colab": {
          "base_uri": "https://localhost:8080/"
        },
        "id": "3u0NYu7EI36X",
        "outputId": "aa5d7069-f17f-49b3-d4c4-98ab9ddefd1d"
      },
      "execution_count": 10,
      "outputs": [
        {
          "output_type": "execute_result",
          "data": {
            "text/plain": [
              "[0, 1, 4, 9, 16, 25, 36]"
            ]
          },
          "metadata": {},
          "execution_count": 10
        }
      ]
    },
    {
      "cell_type": "code",
      "source": [],
      "metadata": {
        "id": "uRI1T1iWLQjb"
      },
      "execution_count": null,
      "outputs": []
    }
  ]
}