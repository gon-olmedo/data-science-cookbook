{
 "metadata": {
  "language_info": {
   "codemirror_mode": {
    "name": "ipython",
    "version": 3
   },
   "file_extension": ".py",
   "mimetype": "text/x-python",
   "name": "python",
   "nbconvert_exporter": "python",
   "pygments_lexer": "ipython3",
   "version": "3.8.5-final"
  },
  "orig_nbformat": 2,
  "kernelspec": {
   "name": "Python 3.8.5 64-bit (conda)",
   "display_name": "Python 3.8.5 64-bit (conda)",
   "metadata": {
    "interpreter": {
     "hash": "cef9e06bb236b2a8629b07e87a04b187b952a0f661eff5533360a155783f0c33"
    }
   }
  }
 },
 "nbformat": 4,
 "nbformat_minor": 2,
 "cells": [
  {
   "cell_type": "code",
   "execution_count": 1,
   "metadata": {},
   "outputs": [],
   "source": [
    "import pandas as pd\n",
    "import numpy as np"
   ]
  },
  {
   "cell_type": "code",
   "execution_count": 2,
   "metadata": {},
   "outputs": [
    {
     "output_type": "execute_result",
     "data": {
      "text/plain": [
       "   a  b         c\n",
       "0  1  1  0.504619\n",
       "1  2  1  0.405371\n",
       "2  3  1  0.362521\n",
       "3  1  2  0.122497\n",
       "4  2  2  0.977708\n",
       "5  3  2  0.572582"
      ],
      "text/html": "<div>\n<style scoped>\n    .dataframe tbody tr th:only-of-type {\n        vertical-align: middle;\n    }\n\n    .dataframe tbody tr th {\n        vertical-align: top;\n    }\n\n    .dataframe thead th {\n        text-align: right;\n    }\n</style>\n<table border=\"1\" class=\"dataframe\">\n  <thead>\n    <tr style=\"text-align: right;\">\n      <th></th>\n      <th>a</th>\n      <th>b</th>\n      <th>c</th>\n    </tr>\n  </thead>\n  <tbody>\n    <tr>\n      <th>0</th>\n      <td>1</td>\n      <td>1</td>\n      <td>0.504619</td>\n    </tr>\n    <tr>\n      <th>1</th>\n      <td>2</td>\n      <td>1</td>\n      <td>0.405371</td>\n    </tr>\n    <tr>\n      <th>2</th>\n      <td>3</td>\n      <td>1</td>\n      <td>0.362521</td>\n    </tr>\n    <tr>\n      <th>3</th>\n      <td>1</td>\n      <td>2</td>\n      <td>0.122497</td>\n    </tr>\n    <tr>\n      <th>4</th>\n      <td>2</td>\n      <td>2</td>\n      <td>0.977708</td>\n    </tr>\n    <tr>\n      <th>5</th>\n      <td>3</td>\n      <td>2</td>\n      <td>0.572582</td>\n    </tr>\n  </tbody>\n</table>\n</div>"
     },
     "metadata": {},
     "execution_count": 2
    }
   ],
   "source": [
    "# Both methods are used to aggregate a df\n",
    "df = pd.DataFrame(\n",
    "    {'a': [1,2,3,1,2,3],\n",
    "     'b': [1,1,1,2,2,2],\n",
    "     'c': np.random.rand(6)}\n",
    "     )\n",
    "df"
   ]
  },
  {
   "cell_type": "code",
   "execution_count": 3,
   "metadata": {},
   "outputs": [
    {
     "output_type": "execute_result",
     "data": {
      "text/plain": [
       "b         1         2\n",
       "a                    \n",
       "1  0.504619  0.122497\n",
       "2  0.405371  0.977708\n",
       "3  0.362521  0.572582"
      ],
      "text/html": "<div>\n<style scoped>\n    .dataframe tbody tr th:only-of-type {\n        vertical-align: middle;\n    }\n\n    .dataframe tbody tr th {\n        vertical-align: top;\n    }\n\n    .dataframe thead th {\n        text-align: right;\n    }\n</style>\n<table border=\"1\" class=\"dataframe\">\n  <thead>\n    <tr style=\"text-align: right;\">\n      <th>b</th>\n      <th>1</th>\n      <th>2</th>\n    </tr>\n    <tr>\n      <th>a</th>\n      <th></th>\n      <th></th>\n    </tr>\n  </thead>\n  <tbody>\n    <tr>\n      <th>1</th>\n      <td>0.504619</td>\n      <td>0.122497</td>\n    </tr>\n    <tr>\n      <th>2</th>\n      <td>0.405371</td>\n      <td>0.977708</td>\n    </tr>\n    <tr>\n      <th>3</th>\n      <td>0.362521</td>\n      <td>0.572582</td>\n    </tr>\n  </tbody>\n</table>\n</div>"
     },
     "metadata": {},
     "execution_count": 3
    }
   ],
   "source": [
    "# pivot_table() creates a table where 'a' is on the row axis\n",
    "# 'b' on the column axis and the values are the sum of 'c'\n",
    "\n",
    "pd.pivot_table(df, index='a', columns='b', values='c', aggfunc='sum')"
   ]
  },
  {
   "cell_type": "code",
   "execution_count": 4,
   "metadata": {},
   "outputs": [
    {
     "output_type": "execute_result",
     "data": {
      "text/plain": [
       "a  b\n",
       "1  1    0.504619\n",
       "   2    0.122497\n",
       "2  1    0.405371\n",
       "   2    0.977708\n",
       "3  1    0.362521\n",
       "   2    0.572582\n",
       "Name: c, dtype: float64"
      ]
     },
     "metadata": {},
     "execution_count": 4
    }
   ],
   "source": [
    "# using groupby the dimensions given are placen into columns,\n",
    "# and rows are created for each combination of those dimensions\n",
    "\n",
    "df.groupby(['a', 'b'])['c'].sum()"
   ]
  },
  {
   "cell_type": "code",
   "execution_count": 5,
   "metadata": {},
   "outputs": [
    {
     "output_type": "execute_result",
     "data": {
      "text/plain": [
       "            c\n",
       "a b          \n",
       "1 1  0.504619\n",
       "  2  0.122497\n",
       "2 1  0.405371\n",
       "  2  0.977708\n",
       "3 1  0.362521\n",
       "  2  0.572582"
      ],
      "text/html": "<div>\n<style scoped>\n    .dataframe tbody tr th:only-of-type {\n        vertical-align: middle;\n    }\n\n    .dataframe tbody tr th {\n        vertical-align: top;\n    }\n\n    .dataframe thead th {\n        text-align: right;\n    }\n</style>\n<table border=\"1\" class=\"dataframe\">\n  <thead>\n    <tr style=\"text-align: right;\">\n      <th></th>\n      <th></th>\n      <th>c</th>\n    </tr>\n    <tr>\n      <th>a</th>\n      <th>b</th>\n      <th></th>\n    </tr>\n  </thead>\n  <tbody>\n    <tr>\n      <th rowspan=\"2\" valign=\"top\">1</th>\n      <th>1</th>\n      <td>0.504619</td>\n    </tr>\n    <tr>\n      <th>2</th>\n      <td>0.122497</td>\n    </tr>\n    <tr>\n      <th rowspan=\"2\" valign=\"top\">2</th>\n      <th>1</th>\n      <td>0.405371</td>\n    </tr>\n    <tr>\n      <th>2</th>\n      <td>0.977708</td>\n    </tr>\n    <tr>\n      <th rowspan=\"2\" valign=\"top\">3</th>\n      <th>1</th>\n      <td>0.362521</td>\n    </tr>\n    <tr>\n      <th>2</th>\n      <td>0.572582</td>\n    </tr>\n  </tbody>\n</table>\n</div>"
     },
     "metadata": {},
     "execution_count": 5
    }
   ],
   "source": [
    "# by ommiting 'c' you can create a df instead of a series\n",
    "df.groupby(['a', 'b']).sum()"
   ]
  },
  {
   "cell_type": "code",
   "execution_count": null,
   "metadata": {},
   "outputs": [],
   "source": []
  }
 ]
}